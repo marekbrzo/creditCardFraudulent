{
 "metadata": {
  "language_info": {
   "codemirror_mode": {
    "name": "ipython",
    "version": 3
   },
   "file_extension": ".py",
   "mimetype": "text/x-python",
   "name": "python",
   "nbconvert_exporter": "python",
   "pygments_lexer": "ipython3",
   "version": "3.6.8-final"
  },
  "orig_nbformat": 2,
  "kernelspec": {
   "name": "python36864bitmarekvirtualenv9f3df19e9488425ea9982366d8c98114",
   "display_name": "Python 3.6.8 64-bit ('Marek': virtualenv)"
  }
 },
 "nbformat": 4,
 "nbformat_minor": 2,
 "cells": [
  {
   "cell_type": "markdown",
   "metadata": {},
   "source": [
    "# Project \n",
    "\n",
    "## BDA 104: Predictive Modelling & Data Mining\n",
    "\n",
    "## Due Date: July 25, 2020 \n",
    "\n",
    "## Author: Marek Brzozowski\n",
    "\n",
    "## Theme: Fraudulent Credit Card Prediction"
   ]
  },
  {
   "cell_type": "code",
   "execution_count": 40,
   "metadata": {},
   "outputs": [],
   "source": [
    "# Importing Libraries and Packages\n",
    "import numpy as np \n",
    "import pandas as pd \n",
    "import matplotlib.pyplot as plt\n",
    "import seaborn as sns\n",
    "import sklearn \n",
    "import time\n",
    "\n",
    "from sklearn.decomposition import PCA, TruncatedSVD\n",
    "\n",
    "\n",
    "\n",
    "# Classifiers\n",
    "from sklearn.linear_model import LinearRegression\n",
    "from sklearn.linear_model import LogisticRegression\n",
    "from sklearn.tree import DecisionTreeClassifier\n",
    "from sklearn.cluster import KMeans\n",
    "from sklearn.manifold import TSNE\n",
    "from sklearn import svm\n",
    "from sklearn.ensemble import RandomForestClassifier\n",
    "from sklearn.neighbors import KNeighborsClassifier\n",
    "\n",
    "# Other Libraries\n",
    "from sklearn.datasets import make_classification\n",
    "from sklearn.model_selection import train_test_split\n",
    "from sklearn.model_selection import train_test_split, GridSearchCV\n",
    "from sklearn.metrics import accuracy_score, classification_report, roc_auc_score, log_loss,r2_score, confusion_matrix\n",
    "from sklearn.feature_selection import RFE"
   ]
  },
  {
   "cell_type": "code",
   "execution_count": 26,
   "metadata": {},
   "outputs": [],
   "source": [
    "# Variables\n",
    "split = 20\n",
    "random = 31"
   ]
  },
  {
   "cell_type": "code",
   "execution_count": 27,
   "metadata": {},
   "outputs": [
    {
     "output_type": "execute_result",
     "data": {
      "text/plain": "   Time        V1        V2        V3        V4        V5        V6        V7  \\\n0   0.0 -1.359807 -0.072781  2.536347  1.378155 -0.338321  0.462388  0.239599   \n1   0.0  1.191857  0.266151  0.166480  0.448154  0.060018 -0.082361 -0.078803   \n2   1.0 -1.358354 -1.340163  1.773209  0.379780 -0.503198  1.800499  0.791461   \n3   1.0 -0.966272 -0.185226  1.792993 -0.863291 -0.010309  1.247203  0.237609   \n4   2.0 -1.158233  0.877737  1.548718  0.403034 -0.407193  0.095921  0.592941   \n\n         V8        V9  ...       V21       V22       V23       V24       V25  \\\n0  0.098698  0.363787  ... -0.018307  0.277838 -0.110474  0.066928  0.128539   \n1  0.085102 -0.255425  ... -0.225775 -0.638672  0.101288 -0.339846  0.167170   \n2  0.247676 -1.514654  ...  0.247998  0.771679  0.909412 -0.689281 -0.327642   \n3  0.377436 -1.387024  ... -0.108300  0.005274 -0.190321 -1.175575  0.647376   \n4 -0.270533  0.817739  ... -0.009431  0.798278 -0.137458  0.141267 -0.206010   \n\n        V26       V27       V28  Amount  Class  \n0 -0.189115  0.133558 -0.021053  149.62      0  \n1  0.125895 -0.008983  0.014724    2.69      0  \n2 -0.139097 -0.055353 -0.059752  378.66      0  \n3 -0.221929  0.062723  0.061458  123.50      0  \n4  0.502292  0.219422  0.215153   69.99      0  \n\n[5 rows x 31 columns]",
      "text/html": "<div>\n<style scoped>\n    .dataframe tbody tr th:only-of-type {\n        vertical-align: middle;\n    }\n\n    .dataframe tbody tr th {\n        vertical-align: top;\n    }\n\n    .dataframe thead th {\n        text-align: right;\n    }\n</style>\n<table border=\"1\" class=\"dataframe\">\n  <thead>\n    <tr style=\"text-align: right;\">\n      <th></th>\n      <th>Time</th>\n      <th>V1</th>\n      <th>V2</th>\n      <th>V3</th>\n      <th>V4</th>\n      <th>V5</th>\n      <th>V6</th>\n      <th>V7</th>\n      <th>V8</th>\n      <th>V9</th>\n      <th>...</th>\n      <th>V21</th>\n      <th>V22</th>\n      <th>V23</th>\n      <th>V24</th>\n      <th>V25</th>\n      <th>V26</th>\n      <th>V27</th>\n      <th>V28</th>\n      <th>Amount</th>\n      <th>Class</th>\n    </tr>\n  </thead>\n  <tbody>\n    <tr>\n      <th>0</th>\n      <td>0.0</td>\n      <td>-1.359807</td>\n      <td>-0.072781</td>\n      <td>2.536347</td>\n      <td>1.378155</td>\n      <td>-0.338321</td>\n      <td>0.462388</td>\n      <td>0.239599</td>\n      <td>0.098698</td>\n      <td>0.363787</td>\n      <td>...</td>\n      <td>-0.018307</td>\n      <td>0.277838</td>\n      <td>-0.110474</td>\n      <td>0.066928</td>\n      <td>0.128539</td>\n      <td>-0.189115</td>\n      <td>0.133558</td>\n      <td>-0.021053</td>\n      <td>149.62</td>\n      <td>0</td>\n    </tr>\n    <tr>\n      <th>1</th>\n      <td>0.0</td>\n      <td>1.191857</td>\n      <td>0.266151</td>\n      <td>0.166480</td>\n      <td>0.448154</td>\n      <td>0.060018</td>\n      <td>-0.082361</td>\n      <td>-0.078803</td>\n      <td>0.085102</td>\n      <td>-0.255425</td>\n      <td>...</td>\n      <td>-0.225775</td>\n      <td>-0.638672</td>\n      <td>0.101288</td>\n      <td>-0.339846</td>\n      <td>0.167170</td>\n      <td>0.125895</td>\n      <td>-0.008983</td>\n      <td>0.014724</td>\n      <td>2.69</td>\n      <td>0</td>\n    </tr>\n    <tr>\n      <th>2</th>\n      <td>1.0</td>\n      <td>-1.358354</td>\n      <td>-1.340163</td>\n      <td>1.773209</td>\n      <td>0.379780</td>\n      <td>-0.503198</td>\n      <td>1.800499</td>\n      <td>0.791461</td>\n      <td>0.247676</td>\n      <td>-1.514654</td>\n      <td>...</td>\n      <td>0.247998</td>\n      <td>0.771679</td>\n      <td>0.909412</td>\n      <td>-0.689281</td>\n      <td>-0.327642</td>\n      <td>-0.139097</td>\n      <td>-0.055353</td>\n      <td>-0.059752</td>\n      <td>378.66</td>\n      <td>0</td>\n    </tr>\n    <tr>\n      <th>3</th>\n      <td>1.0</td>\n      <td>-0.966272</td>\n      <td>-0.185226</td>\n      <td>1.792993</td>\n      <td>-0.863291</td>\n      <td>-0.010309</td>\n      <td>1.247203</td>\n      <td>0.237609</td>\n      <td>0.377436</td>\n      <td>-1.387024</td>\n      <td>...</td>\n      <td>-0.108300</td>\n      <td>0.005274</td>\n      <td>-0.190321</td>\n      <td>-1.175575</td>\n      <td>0.647376</td>\n      <td>-0.221929</td>\n      <td>0.062723</td>\n      <td>0.061458</td>\n      <td>123.50</td>\n      <td>0</td>\n    </tr>\n    <tr>\n      <th>4</th>\n      <td>2.0</td>\n      <td>-1.158233</td>\n      <td>0.877737</td>\n      <td>1.548718</td>\n      <td>0.403034</td>\n      <td>-0.407193</td>\n      <td>0.095921</td>\n      <td>0.592941</td>\n      <td>-0.270533</td>\n      <td>0.817739</td>\n      <td>...</td>\n      <td>-0.009431</td>\n      <td>0.798278</td>\n      <td>-0.137458</td>\n      <td>0.141267</td>\n      <td>-0.206010</td>\n      <td>0.502292</td>\n      <td>0.219422</td>\n      <td>0.215153</td>\n      <td>69.99</td>\n      <td>0</td>\n    </tr>\n  </tbody>\n</table>\n<p>5 rows × 31 columns</p>\n</div>"
     },
     "metadata": {},
     "execution_count": 27
    }
   ],
   "source": [
    "# Importing Dataset\n",
    "raw = pd.read_csv('creditcard.csv')\n",
    "raw.head()"
   ]
  },
  {
   "cell_type": "code",
   "execution_count": 28,
   "metadata": {
    "tags": []
   },
   "outputs": [
    {
     "output_type": "stream",
     "name": "stdout",
     "text": "Total Nulls:  0\nNumber of Rows and Columns:  (284807, 31)\n"
    }
   ],
   "source": [
    "print('Total Nulls: ',raw.isnull().sum().sum())\n",
    "print('Number of Rows and Columns: ',raw.shape)"
   ]
  },
  {
   "cell_type": "code",
   "execution_count": 29,
   "metadata": {
    "tags": []
   },
   "outputs": [
    {
     "output_type": "stream",
     "name": "stdout",
     "text": "Column Types:\n Time      float64\nV1        float64\nV2        float64\nV3        float64\nV4        float64\nV5        float64\nV6        float64\nV7        float64\nV8        float64\nV9        float64\nV10       float64\nV11       float64\nV12       float64\nV13       float64\nV14       float64\nV15       float64\nV16       float64\nV17       float64\nV18       float64\nV19       float64\nV20       float64\nV21       float64\nV22       float64\nV23       float64\nV24       float64\nV25       float64\nV26       float64\nV27       float64\nV28       float64\nAmount    float64\nClass       int64\ndtype: object\n"
    }
   ],
   "source": [
    "print('Column Types:\\n',raw.dtypes)"
   ]
  },
  {
   "cell_type": "code",
   "execution_count": 30,
   "metadata": {
    "tags": []
   },
   "outputs": [
    {
     "output_type": "stream",
     "name": "stdout",
     "text": "Number of rows that are duplicates:  1081\n"
    }
   ],
   "source": [
    "duplicates = raw[raw.duplicated()]\n",
    "print('Number of rows that are duplicates: ',len(duplicates))"
   ]
  },
  {
   "cell_type": "code",
   "execution_count": 31,
   "metadata": {},
   "outputs": [],
   "source": [
    "data = raw.copy()\n",
    "data = data.drop(duplicates.index)"
   ]
  },
  {
   "cell_type": "code",
   "execution_count": 32,
   "metadata": {},
   "outputs": [
    {
     "output_type": "display_data",
     "data": {
      "text/plain": "<Figure size 864x864 with 1 Axes>",
      "image/svg+xml": "<?xml version=\"1.0\" encoding=\"utf-8\" standalone=\"no\"?>\r\n<!DOCTYPE svg PUBLIC \"-//W3C//DTD SVG 1.1//EN\"\r\n  \"http://www.w3.org/Graphics/SVG/1.1/DTD/svg11.dtd\">\r\n<!-- Created with matplotlib (https://matplotlib.org/) -->\r\n<svg height=\"686.898125pt\" version=\"1.1\" viewBox=\"0 0 689.945 686.898125\" width=\"689.945pt\" xmlns=\"http://www.w3.org/2000/svg\" xmlns:xlink=\"http://www.w3.org/1999/xlink\">\r\n <defs>\r\n  <style type=\"text/css\">\r\n*{stroke-linecap:butt;stroke-linejoin:round;}\r\n  </style>\r\n </defs>\r\n <g id=\"figure_1\">\r\n  <g id=\"patch_1\">\r\n   <path d=\"M 0 686.898125 \r\nL 689.945 686.898125 \r\nL 689.945 0 \r\nL 0 0 \r\nz\r\n\" style=\"fill:none;\"/>\r\n  </g>\r\n  <g id=\"axes_1\">\r\n   <g id=\"patch_2\">\r\n    <path d=\"M 26.925 676.198125 \r\nL 679.245 676.198125 \r\nL 679.245 23.878125 \r\nL 26.925 23.878125 \r\nz\r\n\" style=\"fill:#ffffff;\"/>\r\n   </g>\r\n   <g clip-path=\"url(#pe5b6737eb8)\">\r\n    <image height=\"653\" id=\"imagede1b30f117\" transform=\"scale(1 -1)translate(0 -653)\" width=\"653\" x=\"26.925\" xlink:href=\"data:image/png;base64,\r\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\" y=\"-23.198125\"/>\r\n   </g>\r\n   <g id=\"matplotlib.axis_1\">\r\n    <g id=\"xtick_1\">\r\n     <g id=\"line2d_1\">\r\n      <defs>\r\n       <path d=\"M 0 0 \r\nL 0 3.5 \r\n\" id=\"m25a166d170\" style=\"stroke:#000000;stroke-width:0.8;\"/>\r\n      </defs>\r\n      <g>\r\n       <use style=\"stroke:#000000;stroke-width:0.8;\" x=\"37.44629\" xlink:href=\"#m25a166d170\" y=\"676.198125\"/>\r\n      </g>\r\n     </g>\r\n     <g id=\"line2d_2\">\r\n      <defs>\r\n       <path d=\"M 0 0 \r\nL 0 -3.5 \r\n\" id=\"m015d1e4864\" style=\"stroke:#000000;stroke-width:0.8;\"/>\r\n      </defs>\r\n      <g>\r\n       <use style=\"stroke:#000000;stroke-width:0.8;\" x=\"37.44629\" xlink:href=\"#m015d1e4864\" y=\"23.878125\"/>\r\n      </g>\r\n     </g>\r\n     <g id=\"text_1\">\r\n      <!-- 0 -->\r\n      <defs>\r\n       <path d=\"M 31.78125 66.40625 \r\nQ 24.171875 66.40625 20.328125 58.90625 \r\nQ 16.5 51.421875 16.5 36.375 \r\nQ 16.5 21.390625 20.328125 13.890625 \r\nQ 24.171875 6.390625 31.78125 6.390625 \r\nQ 39.453125 6.390625 43.28125 13.890625 \r\nQ 47.125 21.390625 47.125 36.375 \r\nQ 47.125 51.421875 43.28125 58.90625 \r\nQ 39.453125 66.40625 31.78125 66.40625 \r\nz\r\nM 31.78125 74.21875 \r\nQ 44.046875 74.21875 50.515625 64.515625 \r\nQ 56.984375 54.828125 56.984375 36.375 \r\nQ 56.984375 17.96875 50.515625 8.265625 \r\nQ 44.046875 -1.421875 31.78125 -1.421875 \r\nQ 19.53125 -1.421875 13.0625 8.265625 \r\nQ 6.59375 17.96875 6.59375 36.375 \r\nQ 6.59375 54.828125 13.0625 64.515625 \r\nQ 19.53125 74.21875 31.78125 74.21875 \r\nz\r\n\" id=\"DejaVuSans-48\"/>\r\n      </defs>\r\n      <g transform=\"translate(34.26504 14.798438)scale(0.1 -0.1)\">\r\n       <use xlink:href=\"#DejaVuSans-48\"/>\r\n      </g>\r\n     </g>\r\n    </g>\r\n    <g id=\"xtick_2\">\r\n     <g id=\"line2d_3\">\r\n      <g>\r\n       <use style=\"stroke:#000000;stroke-width:0.8;\" x=\"142.659194\" xlink:href=\"#m25a166d170\" y=\"676.198125\"/>\r\n      </g>\r\n     </g>\r\n     <g id=\"line2d_4\">\r\n      <g>\r\n       <use style=\"stroke:#000000;stroke-width:0.8;\" x=\"142.659194\" xlink:href=\"#m015d1e4864\" y=\"23.878125\"/>\r\n      </g>\r\n     </g>\r\n     <g id=\"text_2\">\r\n      <!-- 5 -->\r\n      <defs>\r\n       <path d=\"M 10.796875 72.90625 \r\nL 49.515625 72.90625 \r\nL 49.515625 64.59375 \r\nL 19.828125 64.59375 \r\nL 19.828125 46.734375 \r\nQ 21.96875 47.46875 24.109375 47.828125 \r\nQ 26.265625 48.1875 28.421875 48.1875 \r\nQ 40.625 48.1875 47.75 41.5 \r\nQ 54.890625 34.8125 54.890625 23.390625 \r\nQ 54.890625 11.625 47.5625 5.09375 \r\nQ 40.234375 -1.421875 26.90625 -1.421875 \r\nQ 22.3125 -1.421875 17.546875 -0.640625 \r\nQ 12.796875 0.140625 7.71875 1.703125 \r\nL 7.71875 11.625 \r\nQ 12.109375 9.234375 16.796875 8.0625 \r\nQ 21.484375 6.890625 26.703125 6.890625 \r\nQ 35.15625 6.890625 40.078125 11.328125 \r\nQ 45.015625 15.765625 45.015625 23.390625 \r\nQ 45.015625 31 40.078125 35.4375 \r\nQ 35.15625 39.890625 26.703125 39.890625 \r\nQ 22.75 39.890625 18.8125 39.015625 \r\nQ 14.890625 38.140625 10.796875 36.28125 \r\nz\r\n\" id=\"DejaVuSans-53\"/>\r\n      </defs>\r\n      <g transform=\"translate(139.477944 14.798438)scale(0.1 -0.1)\">\r\n       <use xlink:href=\"#DejaVuSans-53\"/>\r\n      </g>\r\n     </g>\r\n    </g>\r\n    <g id=\"xtick_3\">\r\n     <g id=\"line2d_5\">\r\n      <g>\r\n       <use style=\"stroke:#000000;stroke-width:0.8;\" x=\"247.872097\" xlink:href=\"#m25a166d170\" y=\"676.198125\"/>\r\n      </g>\r\n     </g>\r\n     <g id=\"line2d_6\">\r\n      <g>\r\n       <use style=\"stroke:#000000;stroke-width:0.8;\" x=\"247.872097\" xlink:href=\"#m015d1e4864\" y=\"23.878125\"/>\r\n      </g>\r\n     </g>\r\n     <g id=\"text_3\">\r\n      <!-- 10 -->\r\n      <defs>\r\n       <path d=\"M 12.40625 8.296875 \r\nL 28.515625 8.296875 \r\nL 28.515625 63.921875 \r\nL 10.984375 60.40625 \r\nL 10.984375 69.390625 \r\nL 28.421875 72.90625 \r\nL 38.28125 72.90625 \r\nL 38.28125 8.296875 \r\nL 54.390625 8.296875 \r\nL 54.390625 0 \r\nL 12.40625 0 \r\nz\r\n\" id=\"DejaVuSans-49\"/>\r\n      </defs>\r\n      <g transform=\"translate(241.509597 14.798438)scale(0.1 -0.1)\">\r\n       <use xlink:href=\"#DejaVuSans-49\"/>\r\n       <use x=\"63.623047\" xlink:href=\"#DejaVuSans-48\"/>\r\n      </g>\r\n     </g>\r\n    </g>\r\n    <g id=\"xtick_4\">\r\n     <g id=\"line2d_7\">\r\n      <g>\r\n       <use style=\"stroke:#000000;stroke-width:0.8;\" x=\"353.085\" xlink:href=\"#m25a166d170\" y=\"676.198125\"/>\r\n      </g>\r\n     </g>\r\n     <g id=\"line2d_8\">\r\n      <g>\r\n       <use style=\"stroke:#000000;stroke-width:0.8;\" x=\"353.085\" xlink:href=\"#m015d1e4864\" y=\"23.878125\"/>\r\n      </g>\r\n     </g>\r\n     <g id=\"text_4\">\r\n      <!-- 15 -->\r\n      <g transform=\"translate(346.7225 14.798438)scale(0.1 -0.1)\">\r\n       <use xlink:href=\"#DejaVuSans-49\"/>\r\n       <use x=\"63.623047\" xlink:href=\"#DejaVuSans-53\"/>\r\n      </g>\r\n     </g>\r\n    </g>\r\n    <g id=\"xtick_5\">\r\n     <g id=\"line2d_9\">\r\n      <g>\r\n       <use style=\"stroke:#000000;stroke-width:0.8;\" x=\"458.297903\" xlink:href=\"#m25a166d170\" y=\"676.198125\"/>\r\n      </g>\r\n     </g>\r\n     <g id=\"line2d_10\">\r\n      <g>\r\n       <use style=\"stroke:#000000;stroke-width:0.8;\" x=\"458.297903\" xlink:href=\"#m015d1e4864\" y=\"23.878125\"/>\r\n      </g>\r\n     </g>\r\n     <g id=\"text_5\">\r\n      <!-- 20 -->\r\n      <defs>\r\n       <path d=\"M 19.1875 8.296875 \r\nL 53.609375 8.296875 \r\nL 53.609375 0 \r\nL 7.328125 0 \r\nL 7.328125 8.296875 \r\nQ 12.9375 14.109375 22.625 23.890625 \r\nQ 32.328125 33.6875 34.8125 36.53125 \r\nQ 39.546875 41.84375 41.421875 45.53125 \r\nQ 43.3125 49.21875 43.3125 52.78125 \r\nQ 43.3125 58.59375 39.234375 62.25 \r\nQ 35.15625 65.921875 28.609375 65.921875 \r\nQ 23.96875 65.921875 18.8125 64.3125 \r\nQ 13.671875 62.703125 7.8125 59.421875 \r\nL 7.8125 69.390625 \r\nQ 13.765625 71.78125 18.9375 73 \r\nQ 24.125 74.21875 28.421875 74.21875 \r\nQ 39.75 74.21875 46.484375 68.546875 \r\nQ 53.21875 62.890625 53.21875 53.421875 \r\nQ 53.21875 48.921875 51.53125 44.890625 \r\nQ 49.859375 40.875 45.40625 35.40625 \r\nQ 44.1875 33.984375 37.640625 27.21875 \r\nQ 31.109375 20.453125 19.1875 8.296875 \r\nz\r\n\" id=\"DejaVuSans-50\"/>\r\n      </defs>\r\n      <g transform=\"translate(451.935403 14.798438)scale(0.1 -0.1)\">\r\n       <use xlink:href=\"#DejaVuSans-50\"/>\r\n       <use x=\"63.623047\" xlink:href=\"#DejaVuSans-48\"/>\r\n      </g>\r\n     </g>\r\n    </g>\r\n    <g id=\"xtick_6\">\r\n     <g id=\"line2d_11\">\r\n      <g>\r\n       <use style=\"stroke:#000000;stroke-width:0.8;\" x=\"563.510806\" xlink:href=\"#m25a166d170\" y=\"676.198125\"/>\r\n      </g>\r\n     </g>\r\n     <g id=\"line2d_12\">\r\n      <g>\r\n       <use style=\"stroke:#000000;stroke-width:0.8;\" x=\"563.510806\" xlink:href=\"#m015d1e4864\" y=\"23.878125\"/>\r\n      </g>\r\n     </g>\r\n     <g id=\"text_6\">\r\n      <!-- 25 -->\r\n      <g transform=\"translate(557.148306 14.798438)scale(0.1 -0.1)\">\r\n       <use xlink:href=\"#DejaVuSans-50\"/>\r\n       <use x=\"63.623047\" xlink:href=\"#DejaVuSans-53\"/>\r\n      </g>\r\n     </g>\r\n    </g>\r\n    <g id=\"xtick_7\">\r\n     <g id=\"line2d_13\">\r\n      <g>\r\n       <use style=\"stroke:#000000;stroke-width:0.8;\" x=\"668.72371\" xlink:href=\"#m25a166d170\" y=\"676.198125\"/>\r\n      </g>\r\n     </g>\r\n     <g id=\"line2d_14\">\r\n      <g>\r\n       <use style=\"stroke:#000000;stroke-width:0.8;\" x=\"668.72371\" xlink:href=\"#m015d1e4864\" y=\"23.878125\"/>\r\n      </g>\r\n     </g>\r\n     <g id=\"text_7\">\r\n      <!-- 30 -->\r\n      <defs>\r\n       <path d=\"M 40.578125 39.3125 \r\nQ 47.65625 37.796875 51.625 33 \r\nQ 55.609375 28.21875 55.609375 21.1875 \r\nQ 55.609375 10.40625 48.1875 4.484375 \r\nQ 40.765625 -1.421875 27.09375 -1.421875 \r\nQ 22.515625 -1.421875 17.65625 -0.515625 \r\nQ 12.796875 0.390625 7.625 2.203125 \r\nL 7.625 11.71875 \r\nQ 11.71875 9.328125 16.59375 8.109375 \r\nQ 21.484375 6.890625 26.8125 6.890625 \r\nQ 36.078125 6.890625 40.9375 10.546875 \r\nQ 45.796875 14.203125 45.796875 21.1875 \r\nQ 45.796875 27.640625 41.28125 31.265625 \r\nQ 36.765625 34.90625 28.71875 34.90625 \r\nL 20.21875 34.90625 \r\nL 20.21875 43.015625 \r\nL 29.109375 43.015625 \r\nQ 36.375 43.015625 40.234375 45.921875 \r\nQ 44.09375 48.828125 44.09375 54.296875 \r\nQ 44.09375 59.90625 40.109375 62.90625 \r\nQ 36.140625 65.921875 28.71875 65.921875 \r\nQ 24.65625 65.921875 20.015625 65.03125 \r\nQ 15.375 64.15625 9.8125 62.3125 \r\nL 9.8125 71.09375 \r\nQ 15.4375 72.65625 20.34375 73.4375 \r\nQ 25.25 74.21875 29.59375 74.21875 \r\nQ 40.828125 74.21875 47.359375 69.109375 \r\nQ 53.90625 64.015625 53.90625 55.328125 \r\nQ 53.90625 49.265625 50.4375 45.09375 \r\nQ 46.96875 40.921875 40.578125 39.3125 \r\nz\r\n\" id=\"DejaVuSans-51\"/>\r\n      </defs>\r\n      <g transform=\"translate(662.36121 14.798438)scale(0.1 -0.1)\">\r\n       <use xlink:href=\"#DejaVuSans-51\"/>\r\n       <use x=\"63.623047\" xlink:href=\"#DejaVuSans-48\"/>\r\n      </g>\r\n     </g>\r\n    </g>\r\n   </g>\r\n   <g id=\"matplotlib.axis_2\">\r\n    <g id=\"ytick_1\">\r\n     <g id=\"line2d_15\">\r\n      <defs>\r\n       <path d=\"M 0 0 \r\nL -3.5 0 \r\n\" id=\"m1a0c2797fb\" style=\"stroke:#000000;stroke-width:0.8;\"/>\r\n      </defs>\r\n      <g>\r\n       <use style=\"stroke:#000000;stroke-width:0.8;\" x=\"26.925\" xlink:href=\"#m1a0c2797fb\" y=\"34.399415\"/>\r\n      </g>\r\n     </g>\r\n     <g id=\"text_8\">\r\n      <!-- 0 -->\r\n      <g transform=\"translate(13.5625 38.198634)scale(0.1 -0.1)\">\r\n       <use xlink:href=\"#DejaVuSans-48\"/>\r\n      </g>\r\n     </g>\r\n    </g>\r\n    <g id=\"ytick_2\">\r\n     <g id=\"line2d_16\">\r\n      <g>\r\n       <use style=\"stroke:#000000;stroke-width:0.8;\" x=\"26.925\" xlink:href=\"#m1a0c2797fb\" y=\"139.612319\"/>\r\n      </g>\r\n     </g>\r\n     <g id=\"text_9\">\r\n      <!-- 5 -->\r\n      <g transform=\"translate(13.5625 143.411537)scale(0.1 -0.1)\">\r\n       <use xlink:href=\"#DejaVuSans-53\"/>\r\n      </g>\r\n     </g>\r\n    </g>\r\n    <g id=\"ytick_3\">\r\n     <g id=\"line2d_17\">\r\n      <g>\r\n       <use style=\"stroke:#000000;stroke-width:0.8;\" x=\"26.925\" xlink:href=\"#m1a0c2797fb\" y=\"244.825222\"/>\r\n      </g>\r\n     </g>\r\n     <g id=\"text_10\">\r\n      <!-- 10 -->\r\n      <g transform=\"translate(7.2 248.624441)scale(0.1 -0.1)\">\r\n       <use xlink:href=\"#DejaVuSans-49\"/>\r\n       <use x=\"63.623047\" xlink:href=\"#DejaVuSans-48\"/>\r\n      </g>\r\n     </g>\r\n    </g>\r\n    <g id=\"ytick_4\">\r\n     <g id=\"line2d_18\">\r\n      <g>\r\n       <use style=\"stroke:#000000;stroke-width:0.8;\" x=\"26.925\" xlink:href=\"#m1a0c2797fb\" y=\"350.038125\"/>\r\n      </g>\r\n     </g>\r\n     <g id=\"text_11\">\r\n      <!-- 15 -->\r\n      <g transform=\"translate(7.2 353.837344)scale(0.1 -0.1)\">\r\n       <use xlink:href=\"#DejaVuSans-49\"/>\r\n       <use x=\"63.623047\" xlink:href=\"#DejaVuSans-53\"/>\r\n      </g>\r\n     </g>\r\n    </g>\r\n    <g id=\"ytick_5\">\r\n     <g id=\"line2d_19\">\r\n      <g>\r\n       <use style=\"stroke:#000000;stroke-width:0.8;\" x=\"26.925\" xlink:href=\"#m1a0c2797fb\" y=\"455.251028\"/>\r\n      </g>\r\n     </g>\r\n     <g id=\"text_12\">\r\n      <!-- 20 -->\r\n      <g transform=\"translate(7.2 459.050247)scale(0.1 -0.1)\">\r\n       <use xlink:href=\"#DejaVuSans-50\"/>\r\n       <use x=\"63.623047\" xlink:href=\"#DejaVuSans-48\"/>\r\n      </g>\r\n     </g>\r\n    </g>\r\n    <g id=\"ytick_6\">\r\n     <g id=\"line2d_20\">\r\n      <g>\r\n       <use style=\"stroke:#000000;stroke-width:0.8;\" x=\"26.925\" xlink:href=\"#m1a0c2797fb\" y=\"560.463931\"/>\r\n      </g>\r\n     </g>\r\n     <g id=\"text_13\">\r\n      <!-- 25 -->\r\n      <g transform=\"translate(7.2 564.26315)scale(0.1 -0.1)\">\r\n       <use xlink:href=\"#DejaVuSans-50\"/>\r\n       <use x=\"63.623047\" xlink:href=\"#DejaVuSans-53\"/>\r\n      </g>\r\n     </g>\r\n    </g>\r\n    <g id=\"ytick_7\">\r\n     <g id=\"line2d_21\">\r\n      <g>\r\n       <use style=\"stroke:#000000;stroke-width:0.8;\" x=\"26.925\" xlink:href=\"#m1a0c2797fb\" y=\"665.676835\"/>\r\n      </g>\r\n     </g>\r\n     <g id=\"text_14\">\r\n      <!-- 30 -->\r\n      <g transform=\"translate(7.2 669.476053)scale(0.1 -0.1)\">\r\n       <use xlink:href=\"#DejaVuSans-51\"/>\r\n       <use x=\"63.623047\" xlink:href=\"#DejaVuSans-48\"/>\r\n      </g>\r\n     </g>\r\n    </g>\r\n   </g>\r\n   <g id=\"patch_3\">\r\n    <path d=\"M 26.925 676.198125 \r\nL 26.925 23.878125 \r\n\" style=\"fill:none;stroke:#000000;stroke-linecap:square;stroke-linejoin:miter;stroke-width:0.8;\"/>\r\n   </g>\r\n   <g id=\"patch_4\">\r\n    <path d=\"M 679.245 676.198125 \r\nL 679.245 23.878125 \r\n\" style=\"fill:none;stroke:#000000;stroke-linecap:square;stroke-linejoin:miter;stroke-width:0.8;\"/>\r\n   </g>\r\n   <g id=\"patch_5\">\r\n    <path d=\"M 26.925 676.198125 \r\nL 679.245 676.198125 \r\n\" style=\"fill:none;stroke:#000000;stroke-linecap:square;stroke-linejoin:miter;stroke-width:0.8;\"/>\r\n   </g>\r\n   <g id=\"patch_6\">\r\n    <path d=\"M 26.925 23.878125 \r\nL 679.245 23.878125 \r\n\" style=\"fill:none;stroke:#000000;stroke-linecap:square;stroke-linejoin:miter;stroke-width:0.8;\"/>\r\n   </g>\r\n  </g>\r\n </g>\r\n <defs>\r\n  <clipPath id=\"pe5b6737eb8\">\r\n   <rect height=\"652.32\" width=\"652.32\" x=\"26.925\" y=\"23.878125\"/>\r\n  </clipPath>\r\n </defs>\r\n</svg>\r\n",
      "image/png": "[encoded data removed]"
     },
     "metadata": {
      "needs_background": "light"
     }
    }
   ],
   "source": [
    "def plot_corr(df,size=12):\n",
    "    '''Function plots a graphical correlation matrix for each pair of columns in the dataframe. '''\n",
    "    corr = df.corr()\n",
    "    fig, ax = plt.subplots(figsize=(size, size))\n",
    "    ax.matshow(corr)\n",
    "    \n",
    "plot_corr(data)"
   ]
  },
  {
   "cell_type": "markdown",
   "metadata": {},
   "source": []
  },
  {
   "cell_type": "code",
   "execution_count": 33,
   "metadata": {},
   "outputs": [],
   "source": [
    "feature = data.copy()\n",
    "target = feature.iloc[:,-1]\n",
    "features = feature.drop(columns=['Class'],axis=1)\n"
   ]
  },
  {
   "cell_type": "code",
   "execution_count": 34,
   "metadata": {
    "tags": []
   },
   "outputs": [
    {
     "output_type": "stream",
     "name": "stdout",
     "text": "The Actual Number of Fraudulent Claims: 473 \tTotal Transaction 283726 \tPercentage of Fraud Claims 0.17%\n"
    }
   ],
   "source": [
    "print(\n",
    "    'The Actual Number of Fraudulent Claims: %0.0f ' \n",
    "    '\\tTotal Transaction %0.0f '\n",
    "    '\\tPercentage of Fraud Claims %0.2f%%' \n",
    "    % (\n",
    "        target.sum(),\n",
    "        len(target),\n",
    "        target.sum()/len(target)*100\n",
    "        )\n",
    "    )"
   ]
  },
  {
   "cell_type": "code",
   "execution_count": 35,
   "metadata": {},
   "outputs": [],
   "source": [
    "feature_train, feature_test , target_train, target_test = train_test_split(features,target, test_size = split, random_state = random)"
   ]
  },
  {
   "cell_type": "markdown",
   "metadata": {},
   "source": [
    "Heavy Onesidness need to use different accuracy measures."
   ]
  },
  {
   "cell_type": "code",
   "execution_count": 36,
   "metadata": {},
   "outputs": [],
   "source": [
    "def linear_regression(predict_train, predict_test, target_train, target_test):\n",
    "\n",
    "    linear_model = LinearRegression()\n",
    "\n",
    "    linear_regression = linear_model.fit(predict_train,target_train)\n",
    "    print(\"Linear Regression Training Score: \",linear_regression.score(predict_train,target_train))\n",
    "    print(\"Linear Regression Testing Score: \",linear_regression.score(predict_test,target_test))\n",
    "\n",
    "\n",
    "    predicted_test = linear_regression.predict(predict_test)\n",
    "\n",
    "    print('\\nLinear Regression Testing Score (R^2 Score): ',r2_score(predicted_test,target_test),'\\n')\n",
    "\n",
    "    best_estimator = RFE(linear_model, n_features_to_select= 150)\n",
    "    best_estimator.fit(predict_train,target_train)\n",
    "    print('\\nLinear RFE Train score: ', best_estimator.score(predict_train,target_train))\n",
    "    print('Linear RFE Test score: ', best_estimator.score(predict_test,target_test))"
   ]
  },
  {
   "cell_type": "code",
   "execution_count": 37,
   "metadata": {},
   "outputs": [],
   "source": [
    "def logistic_regression(predict_train, predict_test, target_train, target_test):\n",
    "    \n",
    "    log_model = LogisticRegression()\n",
    "\n",
    "    logistic_regression = log_model.fit(predict_train,target_train)\n",
    "    print(\"\\nLogistic Regression Training Score: \",logistic_regression.score(predict_train,target_train))\n",
    "    print(\"Logistic Regression Testing Score: \",logistic_regression.score(predict_test,target_test))\n",
    "\n",
    "    predicted_test = logistic_regression.predict(predict_test)\n",
    "\n",
    "    print('\\Logistic Regression Testing Score (R^2 Score): ',r2_score(predicted_test,target_test),'\\n')\n",
    "\n",
    "    best_estimator = RFE(log_model, n_features_to_select= 150)\n",
    "    best_estimator.fit(predict_train,target_train)\n",
    "    print('\\nLogistic RFE Train score: ', best_estimator.score(predict_train,target_train))\n",
    "    print('Logistic RFE Test score: ', best_estimator.score(predict_test,target_test))"
   ]
  },
  {
   "cell_type": "code",
   "execution_count": 38,
   "metadata": {},
   "outputs": [],
   "source": [
    "def decision_tree(predict_train, predict_test, target_train, target_test):\n",
    "\n",
    "    clf = tree.DecisionTreeClassifier()\n",
    "    parameters = {'max_features': ['log2', 'sqrt','auto'], \n",
    "                        'criterion': ['entropy', 'gini'],\n",
    "                        'max_depth': [2, 3, 5, 10], \n",
    "                        'min_samples_split': [2, 3, 5],\n",
    "                        'min_samples_leaf': [1,5,8]\n",
    "                }\n",
    "\n",
    "    grid_obj = GridSearchCV(clf, parameters, cv=5)\n",
    "    grid_obj = grid_obj.fit(predict_train,target_train)\n",
    "    clf = grid_obj.best_estimator_\n",
    "    clf.fit(predict_train,target_train)\n",
    "\n",
    "    print('Decision Tree Accuracy score for Training: ',clf.score(predict_train,target_train))\n",
    "\n",
    "    predicted_test = clf.predict(predict_test)\n",
    "    \n",
    "    print(\"\\nDecision Tree Accuracy Score for Testing: \",accuracy_score(predicted_test,target_test))\n",
    "\n",
    "    cm = confusion_matrix(predicted_test,target_test)\n",
    "    sb.heatmap(cm, annot=True)\n",
    "    plt.show()"
   ]
  },
  {
   "cell_type": "code",
   "execution_count": 41,
   "metadata": {
    "tags": []
   },
   "outputs": [
    {
     "output_type": "stream",
     "name": "stdout",
     "text": "Linear Regression Training Score:  0.5064785284570794\nLinear Regression Testing Score:  0.0\n\nLinear Regression Testing Score (R^2 Score):  -0.10581358226305038 \n\n\nLinear RFE Train score:  0.5064785284570794\nLinear RFE Test score:  0.0\n"
    }
   ],
   "source": [
    "linear_regression(feature_train, feature_test, target_train, target_test)"
   ]
  },
  {
   "cell_type": "code",
   "execution_count": null,
   "metadata": {},
   "outputs": [],
   "source": []
  }
 ]
}